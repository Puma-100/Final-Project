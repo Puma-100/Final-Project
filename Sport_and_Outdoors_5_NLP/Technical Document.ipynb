{
 "cells": [
  {
   "cell_type": "markdown",
   "id": "86b7e264-5b26-4177-976b-4f04c1a154a3",
   "metadata": {},
   "source": [
    "# 1.0 Introduction"
   ]
  },
  {
   "cell_type": "markdown",
   "id": "affb91ed-39f2-49f3-b0b5-4d8d934dc489",
   "metadata": {},
   "source": [
    "Our project is focusing on the implementation of Aspect-Based\n",
    "Sentiment Analysis (ABSA) using the popular Amazon products review datasets. Aspect-Based\n",
    "Sentiment Analysis (ABSA) is an advanced technique in natural language processing (NLP) that\n",
    "goes beyond determining the overall sentiment of a text. Instead, it identifies sentiments related\n",
    "to specific aspects of a product or service mentioned in the text. The example below\n",
    "demonstrates the difference between Traditional Sentiment Analysis and Aspect-Based\n",
    "Sentiment Analysis using a sample Hotel Review.  \n",
    "\n",
    "(INSERT THE  PIC)\n",
    "\n",
    "This project aims to take traditional sentiment analysis a step further, to dissect customer\n",
    "reviews into specific sentiment details thereby providing granular and actionable insights into\n",
    "what aspects customers liked or disliked about the product and service."
   ]
  },
  {
   "cell_type": "markdown",
   "id": "a3e736c3-e193-481a-a1a6-424e7e016c82",
   "metadata": {},
   "source": [
    "# 2.0 Data Collection"
   ]
  },
  {
   "cell_type": "markdown",
   "id": "121bf66f-37ff-4dd7-81e1-c4ebc8685b21",
   "metadata": {},
   "source": [
    "The project's initial phase involves collecting and preprocessing Amazon product reviews,\r\n",
    "accessible from a well-known repository. This extensive dataset encompasses a wide range of\r\n",
    "product categories, from books and arts to beauty and fashion, offering a rich diversity for\r\n",
    "analysis. The variety in categories challenges us to develop specialized techniques that go\r\n",
    "beyond basic sentiment classification, aiming to extract specific insights related to various\r\n",
    "aspects mentioned in the reviews. Implementing this step, we will employ scripts to automate\r\n",
    "the download and initial preprocessing of these datasets, ensuring a broad and representative\r\n",
    "sample for our analysis.\r"
   ]
  },
  {
   "cell_type": "markdown",
   "id": "6f0425ca-1c5c-456f-9006-df9c95dc263e",
   "metadata": {},
   "source": [
    "# 3.0 Exploratory Data Analysis (EDA)"
   ]
  },
  {
   "cell_type": "markdown",
   "id": "03ed211a-a7f6-414d-b10a-08e44bffb1f0",
   "metadata": {},
   "source": [
    "In the initial stage of data preprocessing, it is imperative to conduct a comprehensive examination of the database. This entails thoroughly understanding the structure, content, and quality of the data. By meticulously reviewing the database, we can gain insights into its intricacies, identify any anomalies or inconsistencies, and lay the groundwork for subsequent preprocessing tasks."
   ]
  },
  {
   "cell_type": "markdown",
   "id": "598b0909-029b-414b-9cf6-efee7bfb0de6",
   "metadata": {},
   "source": [
    "The metadata of the review datafiles is available below:\n",
    "\n",
    "**overall:** rating of the product <br>\n",
    "**verified:** whether the *ID* or *text* True or False <br>\n",
    "**reviewTime:** time of the review (raw) <br>\n",
    "**reviewerID:** ID of the reviewer, e.g. A2SUAM1J3GNN3B <br>\n",
    "**asin:** ID of the product, e.g. 0000013714 <br>\n",
    "**style:** a dictionary of the product metadata, e.g., \"Format\" is \"Hardcover\" <br>\n",
    "**reviewerName:** name of the reviewer <br>\n",
    "**reviewText:** text of the review <br>\n",
    "**summary:** summary of the review <br>\n",
    "**unixReviewTime:** time of the review (unix time) <br>\n",
    "**vote:** helpful votes of the review <br>\n",
    "**image:** images that users post after they have received the product"
   ]
  },
  {
   "cell_type": "code",
   "execution_count": 1,
   "id": "4fa7c789-79a5-4d57-b0ec-cb0b254cb1cb",
   "metadata": {},
   "outputs": [],
   "source": [
    "import numpy as np\n",
    "import pandas as pd\n",
    "import matplotlib.pyplot as plt\n",
    "import seaborn as sns\n",
    "\n",
    "%matplotlib inline\n",
    "%config InlineBackend.figure_format = 'retina'"
   ]
  },
  {
   "cell_type": "markdown",
   "id": "90049687-da8c-4def-9506-b8c3808ac28e",
   "metadata": {},
   "source": [
    "### Reading the Dataset"
   ]
  },
  {
   "cell_type": "markdown",
   "id": "7a080cf1-84a6-44c1-b6a2-ccfa27b9955f",
   "metadata": {},
   "source": [
    "We begin by reading the file into a pandas object for inspection."
   ]
  },
  {
   "cell_type": "code",
   "execution_count": 2,
   "id": "a52f9502-ec7e-4848-843d-65742eeb390b",
   "metadata": {},
   "outputs": [
    {
     "data": {
      "text/html": [
       "<div>\n",
       "<style scoped>\n",
       "    .dataframe tbody tr th:only-of-type {\n",
       "        vertical-align: middle;\n",
       "    }\n",
       "\n",
       "    .dataframe tbody tr th {\n",
       "        vertical-align: top;\n",
       "    }\n",
       "\n",
       "    .dataframe thead th {\n",
       "        text-align: right;\n",
       "    }\n",
       "</style>\n",
       "<table border=\"1\" class=\"dataframe\">\n",
       "  <thead>\n",
       "    <tr style=\"text-align: right;\">\n",
       "      <th></th>\n",
       "      <th>overall</th>\n",
       "      <th>verified</th>\n",
       "      <th>reviewTime</th>\n",
       "      <th>reviewerID</th>\n",
       "      <th>asin</th>\n",
       "      <th>style</th>\n",
       "      <th>reviewerName</th>\n",
       "      <th>reviewText</th>\n",
       "      <th>summary</th>\n",
       "      <th>unixReviewTime</th>\n",
       "      <th>vote</th>\n",
       "      <th>image</th>\n",
       "    </tr>\n",
       "  </thead>\n",
       "  <tbody>\n",
       "    <tr>\n",
       "      <th>0</th>\n",
       "      <td>5</td>\n",
       "      <td>True</td>\n",
       "      <td>09 4, 2015</td>\n",
       "      <td>ALJ66O1Y6SLHA</td>\n",
       "      <td>B000K2PJ4K</td>\n",
       "      <td>{'Size:': ' Big Boys', 'Color:': ' Blue/Orange'}</td>\n",
       "      <td>Tonya B.</td>\n",
       "      <td>Great product and price!</td>\n",
       "      <td>Five Stars</td>\n",
       "      <td>1441324800</td>\n",
       "      <td>NaN</td>\n",
       "      <td>NaN</td>\n",
       "    </tr>\n",
       "    <tr>\n",
       "      <th>1</th>\n",
       "      <td>5</td>\n",
       "      <td>True</td>\n",
       "      <td>09 4, 2015</td>\n",
       "      <td>ALJ66O1Y6SLHA</td>\n",
       "      <td>B000K2PJ4K</td>\n",
       "      <td>{'Size:': ' Big Boys', 'Color:': ' Black (3746...</td>\n",
       "      <td>Tonya B.</td>\n",
       "      <td>Great product and price!</td>\n",
       "      <td>Five Stars</td>\n",
       "      <td>1441324800</td>\n",
       "      <td>NaN</td>\n",
       "      <td>NaN</td>\n",
       "    </tr>\n",
       "    <tr>\n",
       "      <th>2</th>\n",
       "      <td>5</td>\n",
       "      <td>True</td>\n",
       "      <td>09 4, 2015</td>\n",
       "      <td>ALJ66O1Y6SLHA</td>\n",
       "      <td>B000K2PJ4K</td>\n",
       "      <td>{'Size:': ' Big Boys', 'Color:': ' Blue/Gray L...</td>\n",
       "      <td>Tonya B.</td>\n",
       "      <td>Great product and price!</td>\n",
       "      <td>Five Stars</td>\n",
       "      <td>1441324800</td>\n",
       "      <td>NaN</td>\n",
       "      <td>NaN</td>\n",
       "    </tr>\n",
       "    <tr>\n",
       "      <th>3</th>\n",
       "      <td>5</td>\n",
       "      <td>True</td>\n",
       "      <td>09 4, 2015</td>\n",
       "      <td>ALJ66O1Y6SLHA</td>\n",
       "      <td>B000K2PJ4K</td>\n",
       "      <td>{'Size:': ' Big Boys', 'Color:': ' Blue (37867...</td>\n",
       "      <td>Tonya B.</td>\n",
       "      <td>Great product and price!</td>\n",
       "      <td>Five Stars</td>\n",
       "      <td>1441324800</td>\n",
       "      <td>NaN</td>\n",
       "      <td>NaN</td>\n",
       "    </tr>\n",
       "    <tr>\n",
       "      <th>4</th>\n",
       "      <td>5</td>\n",
       "      <td>True</td>\n",
       "      <td>09 4, 2015</td>\n",
       "      <td>ALJ66O1Y6SLHA</td>\n",
       "      <td>B000K2PJ4K</td>\n",
       "      <td>{'Size:': ' Big Boys', 'Color:': ' Blue/Pink'}</td>\n",
       "      <td>Tonya B.</td>\n",
       "      <td>Great product and price!</td>\n",
       "      <td>Five Stars</td>\n",
       "      <td>1441324800</td>\n",
       "      <td>NaN</td>\n",
       "      <td>NaN</td>\n",
       "    </tr>\n",
       "  </tbody>\n",
       "</table>\n",
       "</div>"
      ],
      "text/plain": [
       "   overall  verified  reviewTime     reviewerID        asin  \\\n",
       "0        5      True  09 4, 2015  ALJ66O1Y6SLHA  B000K2PJ4K   \n",
       "1        5      True  09 4, 2015  ALJ66O1Y6SLHA  B000K2PJ4K   \n",
       "2        5      True  09 4, 2015  ALJ66O1Y6SLHA  B000K2PJ4K   \n",
       "3        5      True  09 4, 2015  ALJ66O1Y6SLHA  B000K2PJ4K   \n",
       "4        5      True  09 4, 2015  ALJ66O1Y6SLHA  B000K2PJ4K   \n",
       "\n",
       "                                               style reviewerName  \\\n",
       "0   {'Size:': ' Big Boys', 'Color:': ' Blue/Orange'}     Tonya B.   \n",
       "1  {'Size:': ' Big Boys', 'Color:': ' Black (3746...     Tonya B.   \n",
       "2  {'Size:': ' Big Boys', 'Color:': ' Blue/Gray L...     Tonya B.   \n",
       "3  {'Size:': ' Big Boys', 'Color:': ' Blue (37867...     Tonya B.   \n",
       "4     {'Size:': ' Big Boys', 'Color:': ' Blue/Pink'}     Tonya B.   \n",
       "\n",
       "                 reviewText     summary  unixReviewTime  vote image  \n",
       "0  Great product and price!  Five Stars      1441324800   NaN   NaN  \n",
       "1  Great product and price!  Five Stars      1441324800   NaN   NaN  \n",
       "2  Great product and price!  Five Stars      1441324800   NaN   NaN  \n",
       "3  Great product and price!  Five Stars      1441324800   NaN   NaN  \n",
       "4  Great product and price!  Five Stars      1441324800   NaN   NaN  "
      ]
     },
     "execution_count": 2,
     "metadata": {},
     "output_type": "execute_result"
    }
   ],
   "source": [
    "Amazon_D  = pd.read_json('AMAZON_FASHION_5.json.gz', lines=True)\n",
    "Amazon_D.head( )"
   ]
  },
  {
   "cell_type": "markdown",
   "id": "42096760-06ec-4617-a6b9-0e9c07481231",
   "metadata": {},
   "source": [
    "#### Shape of the dataset"
   ]
  },
  {
   "cell_type": "markdown",
   "id": "a7e87f49-17ca-413a-851d-704a51890f85",
   "metadata": {},
   "source": [
    "Now we will comprehend the size and structure of the dataset."
   ]
  },
  {
   "cell_type": "code",
   "execution_count": 3,
   "id": "716c81b5-b655-42d2-be7b-41e14a61e038",
   "metadata": {},
   "outputs": [
    {
     "data": {
      "text/plain": [
       "(3176, 12)"
      ]
     },
     "execution_count": 3,
     "metadata": {},
     "output_type": "execute_result"
    }
   ],
   "source": [
    "Amazon_D.shape"
   ]
  },
  {
   "cell_type": "markdown",
   "id": "4a862d24-7331-4c23-93d4-2a55325615a3",
   "metadata": {},
   "source": [
    "The dataframe comprises 3176 rows, representing reviews, and 12 columns, representing different fields. However, not all columns are essential for the final task. Consequently, The unnecessary fields will be systematically eliminated."
   ]
  },
  {
   "cell_type": "markdown",
   "id": "4cbaf430-be68-4f08-92a4-6baaccbac4c9",
   "metadata": {},
   "source": [
    "Now will check the datatypes of the dataframe."
   ]
  },
  {
   "cell_type": "code",
   "execution_count": 4,
   "id": "2f17e061-1513-48d1-bad2-fd22615688a0",
   "metadata": {},
   "outputs": [
    {
     "name": "stdout",
     "output_type": "stream",
     "text": [
      "<class 'pandas.core.frame.DataFrame'>\n",
      "RangeIndex: 3176 entries, 0 to 3175\n",
      "Data columns (total 12 columns):\n",
      " #   Column          Non-Null Count  Dtype  \n",
      "---  ------          --------------  -----  \n",
      " 0   overall         3176 non-null   int64  \n",
      " 1   verified        3176 non-null   bool   \n",
      " 2   reviewTime      3176 non-null   object \n",
      " 3   reviewerID      3176 non-null   object \n",
      " 4   asin            3176 non-null   object \n",
      " 5   style           3107 non-null   object \n",
      " 6   reviewerName    3176 non-null   object \n",
      " 7   reviewText      3160 non-null   object \n",
      " 8   summary         3176 non-null   object \n",
      " 9   unixReviewTime  3176 non-null   int64  \n",
      " 10  vote            297 non-null    float64\n",
      " 11  image           106 non-null    object \n",
      "dtypes: bool(1), float64(1), int64(2), object(8)\n",
      "memory usage: 276.2+ KB\n"
     ]
    }
   ],
   "source": [
    "Amazon_D.info( )"
   ]
  },
  {
   "cell_type": "markdown",
   "id": "c8d9f70d-c624-4343-8307-a18e486e5e4e",
   "metadata": {},
   "source": [
    "> Here you can see that the \"Overall\" rating is an integer, Verification is Boolean, \"vote\" is float and the rest are objects."
   ]
  },
  {
   "cell_type": "markdown",
   "id": "351b4fb8-04c0-425d-9ec6-c0bb633d14a7",
   "metadata": {},
   "source": [
    "### Basic Subsetting"
   ]
  },
  {
   "cell_type": "markdown",
   "id": "de96bfc2-31ae-4e6f-b6fe-7e60b6a33ff6",
   "metadata": {},
   "source": [
    "The next step is to subset the data to work with a smaller more meaningful dataset. We will implement the following steps to reduce the size of our dataset.\n",
    "\n",
    "1. **Verified=True:** We will only work with verified Reviews\n",
    "2. **Drop Columns:** We will drop non-essential columns\n",
    "3. **Drop duplicates:** We will also drop duplicates to reduce the size of the reviews"
   ]
  },
  {
   "cell_type": "markdown",
   "id": "a9875fae-4dd0-457d-9b41-16700b3a7168",
   "metadata": {},
   "source": [
    "#### Selecting Verified Review"
   ]
  },
  {
   "cell_type": "markdown",
   "id": "2d8d388c-dbd8-44ed-a1a2-db0328c1255b",
   "metadata": {},
   "source": [
    "In this step, the dataframe will be filtered to include only the rows where the 'verified' value is **'True'**."
   ]
  },
  {
   "cell_type": "code",
   "execution_count": 5,
   "id": "6f6f394a-7891-40a7-9125-04d13e405125",
   "metadata": {},
   "outputs": [
    {
     "data": {
      "image/png": "[encoded data removed]",
      "text/plain": [
       "<Figure size 640x480 with 1 Axes>"
      ]
     },
     "metadata": {
      "image/png": {
       "height": 475,
       "width": 560
      }
     },
     "output_type": "display_data"
    }
   ],
   "source": [
    "Amazon_D.verified.value_counts().plot(kind='bar', title='Distribution of Reviews by Verification')\n",
    "plt.show()"
   ]
  },
  {
   "cell_type": "code",
   "execution_count": 6,
   "id": "4d075ffe-2965-49e2-8fb4-1416e3d57cf3",
   "metadata": {},
   "outputs": [],
   "source": [
    "Amazon_D = Amazon_D[Amazon_D.verified == True].copy()"
   ]
  },
  {
   "cell_type": "code",
   "execution_count": 7,
   "id": "31d05a4c-46aa-42b0-8eae-ced406cb3c6b",
   "metadata": {},
   "outputs": [
    {
     "data": {
      "text/plain": [
       "(3079, 12)"
      ]
     },
     "execution_count": 7,
     "metadata": {},
     "output_type": "execute_result"
    }
   ],
   "source": [
    "Amazon_D.shape"
   ]
  },
  {
   "cell_type": "markdown",
   "id": "9f38ade1-32cc-478c-832d-8c5cfedcd0dd",
   "metadata": {},
   "source": [
    "Here, it's evident that the previous review count was 3176, and after filtering for only 'True' verifications, it has reduced to 3079. This reduction of 97 reviews indicates the number of entries with 'False' verifications."
   ]
  },
  {
   "cell_type": "markdown",
   "id": "dca13a8f-d942-4080-b0da-d53b5b5a1159",
   "metadata": {},
   "source": [
    "#### Drop unnecessary fields"
   ]
  },
  {
   "cell_type": "markdown",
   "id": "11b882bd-a373-4836-8b20-04011d64cb24",
   "metadata": {},
   "source": [
    "A variety of columns serve as metadata but are not crucial for the subsequent Natural Language Processing (NLP) steps. To streamline the dataset, we must drop down the columns. The significant columns to retain are:\n",
    "\n",
    "1. Overall : rating of the product\n",
    "2. reviewer ID : ID of the reviewer, e.g. A2SUAM1J3GNN3B\n",
    "3. asin : ID of the product, e.g. 0000013714\n",
    "4. review text : text of the review\n",
    "5. summary : summary of the review"
   ]
  },
  {
   "cell_type": "markdown",
   "id": "42940eea-9f1d-438b-a1a8-41e9d10139cb",
   "metadata": {},
   "source": [
    "First will review all the columns in the dataframe."
   ]
  },
  {
   "cell_type": "code",
   "execution_count": 8,
   "id": "ba94fca8-f422-4fae-9710-37937e11c749",
   "metadata": {},
   "outputs": [
    {
     "data": {
      "text/plain": [
       "Index(['overall', 'verified', 'reviewTime', 'reviewerID', 'asin', 'style',\n",
       "       'reviewerName', 'reviewText', 'summary', 'unixReviewTime', 'vote',\n",
       "       'image'],\n",
       "      dtype='object')"
      ]
     },
     "execution_count": 8,
     "metadata": {},
     "output_type": "execute_result"
    }
   ],
   "source": [
    "Amazon_D.columns"
   ]
  },
  {
   "cell_type": "markdown",
   "id": "49b3a8d0-15ea-4758-92df-4165bef93626",
   "metadata": {},
   "source": [
    "Now only necessary fields will be kept in the dataset."
   ]
  },
  {
   "cell_type": "code",
   "execution_count": 9,
   "id": "429c6e9a-8487-4dbc-9961-a5e54f42aa87",
   "metadata": {},
   "outputs": [],
   "source": [
    "cols = ['overall', 'reviewText','summary','reviewerID','asin']\n",
    "Amazon_D1=Amazon_D[cols].copy()"
   ]
  },
  {
   "cell_type": "code",
   "execution_count": 10,
   "id": "53ec1e1f-0d6c-4500-9c59-806eb1c111cd",
   "metadata": {},
   "outputs": [
    {
     "data": {
      "text/plain": [
       "(3079, 5)"
      ]
     },
     "execution_count": 10,
     "metadata": {},
     "output_type": "execute_result"
    }
   ],
   "source": [
    "Amazon_D1.shape"
   ]
  },
  {
   "cell_type": "code",
   "execution_count": 11,
   "id": "8d3252be-e123-441e-914f-1a45e910a475",
   "metadata": {},
   "outputs": [
    {
     "data": {
      "text/html": [
       "<div>\n",
       "<style scoped>\n",
       "    .dataframe tbody tr th:only-of-type {\n",
       "        vertical-align: middle;\n",
       "    }\n",
       "\n",
       "    .dataframe tbody tr th {\n",
       "        vertical-align: top;\n",
       "    }\n",
       "\n",
       "    .dataframe thead th {\n",
       "        text-align: right;\n",
       "    }\n",
       "</style>\n",
       "<table border=\"1\" class=\"dataframe\">\n",
       "  <thead>\n",
       "    <tr style=\"text-align: right;\">\n",
       "      <th></th>\n",
       "      <th>overall</th>\n",
       "      <th>reviewText</th>\n",
       "      <th>summary</th>\n",
       "      <th>reviewerID</th>\n",
       "      <th>asin</th>\n",
       "    </tr>\n",
       "  </thead>\n",
       "  <tbody>\n",
       "    <tr>\n",
       "      <th>0</th>\n",
       "      <td>5</td>\n",
       "      <td>Great product and price!</td>\n",
       "      <td>Five Stars</td>\n",
       "      <td>ALJ66O1Y6SLHA</td>\n",
       "      <td>B000K2PJ4K</td>\n",
       "    </tr>\n",
       "    <tr>\n",
       "      <th>1</th>\n",
       "      <td>5</td>\n",
       "      <td>Great product and price!</td>\n",
       "      <td>Five Stars</td>\n",
       "      <td>ALJ66O1Y6SLHA</td>\n",
       "      <td>B000K2PJ4K</td>\n",
       "    </tr>\n",
       "    <tr>\n",
       "      <th>2</th>\n",
       "      <td>5</td>\n",
       "      <td>Great product and price!</td>\n",
       "      <td>Five Stars</td>\n",
       "      <td>ALJ66O1Y6SLHA</td>\n",
       "      <td>B000K2PJ4K</td>\n",
       "    </tr>\n",
       "    <tr>\n",
       "      <th>3</th>\n",
       "      <td>5</td>\n",
       "      <td>Great product and price!</td>\n",
       "      <td>Five Stars</td>\n",
       "      <td>ALJ66O1Y6SLHA</td>\n",
       "      <td>B000K2PJ4K</td>\n",
       "    </tr>\n",
       "    <tr>\n",
       "      <th>4</th>\n",
       "      <td>5</td>\n",
       "      <td>Great product and price!</td>\n",
       "      <td>Five Stars</td>\n",
       "      <td>ALJ66O1Y6SLHA</td>\n",
       "      <td>B000K2PJ4K</td>\n",
       "    </tr>\n",
       "  </tbody>\n",
       "</table>\n",
       "</div>"
      ],
      "text/plain": [
       "   overall                reviewText     summary     reviewerID        asin\n",
       "0        5  Great product and price!  Five Stars  ALJ66O1Y6SLHA  B000K2PJ4K\n",
       "1        5  Great product and price!  Five Stars  ALJ66O1Y6SLHA  B000K2PJ4K\n",
       "2        5  Great product and price!  Five Stars  ALJ66O1Y6SLHA  B000K2PJ4K\n",
       "3        5  Great product and price!  Five Stars  ALJ66O1Y6SLHA  B000K2PJ4K\n",
       "4        5  Great product and price!  Five Stars  ALJ66O1Y6SLHA  B000K2PJ4K"
      ]
     },
     "execution_count": 11,
     "metadata": {},
     "output_type": "execute_result"
    }
   ],
   "source": [
    "Amazon_D1.head()"
   ]
  },
  {
   "cell_type": "markdown",
   "id": "24af4f67-fd44-4b6a-9cde-1515e532004b",
   "metadata": {},
   "source": [
    "#### Checking for duplicates"
   ]
  },
  {
   "cell_type": "markdown",
   "id": "aefaba82-e13b-4abd-893c-5cefbac90044",
   "metadata": {},
   "source": [
    "Now it's time to check for duplications."
   ]
  },
  {
   "cell_type": "code",
   "execution_count": 12,
   "id": "9d293420-eb29-45e2-b107-dc230a21a760",
   "metadata": {},
   "outputs": [
    {
     "data": {
      "text/plain": [
       "reviewerID\n",
       "A37K0VP2H8FKOU    16\n",
       "A3OP70LPLALBKN    16\n",
       "A3BN0MRGRDKM0J    10\n",
       "A2YI41MCJB2QCV     9\n",
       "A3VGHF7VNFBMCQ     9\n",
       "                  ..\n",
       "A33GD4H5O1MK6S     5\n",
       "A12DWXDNZQTKXQ     5\n",
       "A2VR6SWVSF6K4      5\n",
       "ALJ66O1Y6SLHA      5\n",
       "A3CNRM11BHAR1A     4\n",
       "Name: count, Length: 395, dtype: int64"
      ]
     },
     "execution_count": 12,
     "metadata": {},
     "output_type": "execute_result"
    }
   ],
   "source": [
    "Amazon_D1.reviewerID.value_counts()"
   ]
  },
  {
   "cell_type": "markdown",
   "id": "4aaed3be-0240-4231-8557-d2cdbfd298a7",
   "metadata": {},
   "source": [
    "The total number of unique reviewer IDs are 395 in this case."
   ]
  },
  {
   "cell_type": "code",
   "execution_count": 13,
   "id": "ef12b8e5-9171-4859-82f1-73319fc9e8f6",
   "metadata": {},
   "outputs": [
    {
     "data": {
      "text/html": [
       "<div>\n",
       "<style scoped>\n",
       "    .dataframe tbody tr th:only-of-type {\n",
       "        vertical-align: middle;\n",
       "    }\n",
       "\n",
       "    .dataframe tbody tr th {\n",
       "        vertical-align: top;\n",
       "    }\n",
       "\n",
       "    .dataframe thead th {\n",
       "        text-align: right;\n",
       "    }\n",
       "</style>\n",
       "<table border=\"1\" class=\"dataframe\">\n",
       "  <thead>\n",
       "    <tr style=\"text-align: right;\">\n",
       "      <th></th>\n",
       "      <th>overall</th>\n",
       "      <th>reviewText</th>\n",
       "      <th>summary</th>\n",
       "      <th>reviewerID</th>\n",
       "      <th>asin</th>\n",
       "    </tr>\n",
       "  </thead>\n",
       "  <tbody>\n",
       "    <tr>\n",
       "      <th>372</th>\n",
       "      <td>4</td>\n",
       "      <td>I needed a wide size, that option was not avai...</td>\n",
       "      <td>Not quite wide enough</td>\n",
       "      <td>A37K0VP2H8FKOU</td>\n",
       "      <td>B001IKJOLW</td>\n",
       "    </tr>\n",
       "    <tr>\n",
       "      <th>373</th>\n",
       "      <td>4</td>\n",
       "      <td>I needed a wide size, that option was not avai...</td>\n",
       "      <td>Not quite wide enough</td>\n",
       "      <td>A37K0VP2H8FKOU</td>\n",
       "      <td>B001IKJOLW</td>\n",
       "    </tr>\n",
       "    <tr>\n",
       "      <th>735</th>\n",
       "      <td>4</td>\n",
       "      <td>I needed a wide size, that option was not avai...</td>\n",
       "      <td>Not quite wide enough</td>\n",
       "      <td>A37K0VP2H8FKOU</td>\n",
       "      <td>B0058YEJ5K</td>\n",
       "    </tr>\n",
       "    <tr>\n",
       "      <th>736</th>\n",
       "      <td>4</td>\n",
       "      <td>I needed a wide size, that option was not avai...</td>\n",
       "      <td>Not quite wide enough</td>\n",
       "      <td>A37K0VP2H8FKOU</td>\n",
       "      <td>B0058YEJ5K</td>\n",
       "    </tr>\n",
       "    <tr>\n",
       "      <th>1090</th>\n",
       "      <td>4</td>\n",
       "      <td>I needed a wide size, that option was not avai...</td>\n",
       "      <td>Not quite wide enough</td>\n",
       "      <td>A37K0VP2H8FKOU</td>\n",
       "      <td>B0014F7B98</td>\n",
       "    </tr>\n",
       "    <tr>\n",
       "      <th>1091</th>\n",
       "      <td>4</td>\n",
       "      <td>I needed a wide size, that option was not avai...</td>\n",
       "      <td>Not quite wide enough</td>\n",
       "      <td>A37K0VP2H8FKOU</td>\n",
       "      <td>B0014F7B98</td>\n",
       "    </tr>\n",
       "    <tr>\n",
       "      <th>1458</th>\n",
       "      <td>4</td>\n",
       "      <td>I needed a wide size, that option was not avai...</td>\n",
       "      <td>Not quite wide enough</td>\n",
       "      <td>A37K0VP2H8FKOU</td>\n",
       "      <td>B009MA34NY</td>\n",
       "    </tr>\n",
       "    <tr>\n",
       "      <th>1459</th>\n",
       "      <td>4</td>\n",
       "      <td>I needed a wide size, that option was not avai...</td>\n",
       "      <td>Not quite wide enough</td>\n",
       "      <td>A37K0VP2H8FKOU</td>\n",
       "      <td>B009MA34NY</td>\n",
       "    </tr>\n",
       "    <tr>\n",
       "      <th>1827</th>\n",
       "      <td>4</td>\n",
       "      <td>I needed a wide size, that option was not avai...</td>\n",
       "      <td>Not quite wide enough</td>\n",
       "      <td>A37K0VP2H8FKOU</td>\n",
       "      <td>B0092UF54A</td>\n",
       "    </tr>\n",
       "    <tr>\n",
       "      <th>1828</th>\n",
       "      <td>4</td>\n",
       "      <td>I needed a wide size, that option was not avai...</td>\n",
       "      <td>Not quite wide enough</td>\n",
       "      <td>A37K0VP2H8FKOU</td>\n",
       "      <td>B0092UF54A</td>\n",
       "    </tr>\n",
       "    <tr>\n",
       "      <th>2197</th>\n",
       "      <td>4</td>\n",
       "      <td>I needed a wide size, that option was not avai...</td>\n",
       "      <td>Not quite wide enough</td>\n",
       "      <td>A37K0VP2H8FKOU</td>\n",
       "      <td>B005AGO4LU</td>\n",
       "    </tr>\n",
       "    <tr>\n",
       "      <th>2198</th>\n",
       "      <td>4</td>\n",
       "      <td>I needed a wide size, that option was not avai...</td>\n",
       "      <td>Not quite wide enough</td>\n",
       "      <td>A37K0VP2H8FKOU</td>\n",
       "      <td>B005AGO4LU</td>\n",
       "    </tr>\n",
       "    <tr>\n",
       "      <th>2602</th>\n",
       "      <td>4</td>\n",
       "      <td>I needed a wide size, that option was not avai...</td>\n",
       "      <td>Not quite wide enough</td>\n",
       "      <td>A37K0VP2H8FKOU</td>\n",
       "      <td>B010RRWKT4</td>\n",
       "    </tr>\n",
       "    <tr>\n",
       "      <th>2603</th>\n",
       "      <td>4</td>\n",
       "      <td>I needed a wide size, that option was not avai...</td>\n",
       "      <td>Not quite wide enough</td>\n",
       "      <td>A37K0VP2H8FKOU</td>\n",
       "      <td>B010RRWKT4</td>\n",
       "    </tr>\n",
       "    <tr>\n",
       "      <th>2976</th>\n",
       "      <td>4</td>\n",
       "      <td>I needed a wide size, that option was not avai...</td>\n",
       "      <td>Not quite wide enough</td>\n",
       "      <td>A37K0VP2H8FKOU</td>\n",
       "      <td>B014IBJKNO</td>\n",
       "    </tr>\n",
       "    <tr>\n",
       "      <th>2977</th>\n",
       "      <td>4</td>\n",
       "      <td>I needed a wide size, that option was not avai...</td>\n",
       "      <td>Not quite wide enough</td>\n",
       "      <td>A37K0VP2H8FKOU</td>\n",
       "      <td>B014IBJKNO</td>\n",
       "    </tr>\n",
       "  </tbody>\n",
       "</table>\n",
       "</div>"
      ],
      "text/plain": [
       "      overall                                         reviewText  \\\n",
       "372         4  I needed a wide size, that option was not avai...   \n",
       "373         4  I needed a wide size, that option was not avai...   \n",
       "735         4  I needed a wide size, that option was not avai...   \n",
       "736         4  I needed a wide size, that option was not avai...   \n",
       "1090        4  I needed a wide size, that option was not avai...   \n",
       "1091        4  I needed a wide size, that option was not avai...   \n",
       "1458        4  I needed a wide size, that option was not avai...   \n",
       "1459        4  I needed a wide size, that option was not avai...   \n",
       "1827        4  I needed a wide size, that option was not avai...   \n",
       "1828        4  I needed a wide size, that option was not avai...   \n",
       "2197        4  I needed a wide size, that option was not avai...   \n",
       "2198        4  I needed a wide size, that option was not avai...   \n",
       "2602        4  I needed a wide size, that option was not avai...   \n",
       "2603        4  I needed a wide size, that option was not avai...   \n",
       "2976        4  I needed a wide size, that option was not avai...   \n",
       "2977        4  I needed a wide size, that option was not avai...   \n",
       "\n",
       "                    summary      reviewerID        asin  \n",
       "372   Not quite wide enough  A37K0VP2H8FKOU  B001IKJOLW  \n",
       "373   Not quite wide enough  A37K0VP2H8FKOU  B001IKJOLW  \n",
       "735   Not quite wide enough  A37K0VP2H8FKOU  B0058YEJ5K  \n",
       "736   Not quite wide enough  A37K0VP2H8FKOU  B0058YEJ5K  \n",
       "1090  Not quite wide enough  A37K0VP2H8FKOU  B0014F7B98  \n",
       "1091  Not quite wide enough  A37K0VP2H8FKOU  B0014F7B98  \n",
       "1458  Not quite wide enough  A37K0VP2H8FKOU  B009MA34NY  \n",
       "1459  Not quite wide enough  A37K0VP2H8FKOU  B009MA34NY  \n",
       "1827  Not quite wide enough  A37K0VP2H8FKOU  B0092UF54A  \n",
       "1828  Not quite wide enough  A37K0VP2H8FKOU  B0092UF54A  \n",
       "2197  Not quite wide enough  A37K0VP2H8FKOU  B005AGO4LU  \n",
       "2198  Not quite wide enough  A37K0VP2H8FKOU  B005AGO4LU  \n",
       "2602  Not quite wide enough  A37K0VP2H8FKOU  B010RRWKT4  \n",
       "2603  Not quite wide enough  A37K0VP2H8FKOU  B010RRWKT4  \n",
       "2976  Not quite wide enough  A37K0VP2H8FKOU  B014IBJKNO  \n",
       "2977  Not quite wide enough  A37K0VP2H8FKOU  B014IBJKNO  "
      ]
     },
     "execution_count": 13,
     "metadata": {},
     "output_type": "execute_result"
    }
   ],
   "source": [
    "Amazon_D1[Amazon_D1.reviewerID == 'A37K0VP2H8FKOU']"
   ]
  },
  {
   "cell_type": "code",
   "execution_count": 14,
   "id": "44ed5e66-e76c-4317-a397-3e4520a03089",
   "metadata": {},
   "outputs": [
    {
     "data": {
      "text/html": [
       "<div>\n",
       "<style scoped>\n",
       "    .dataframe tbody tr th:only-of-type {\n",
       "        vertical-align: middle;\n",
       "    }\n",
       "\n",
       "    .dataframe tbody tr th {\n",
       "        vertical-align: top;\n",
       "    }\n",
       "\n",
       "    .dataframe thead th {\n",
       "        text-align: right;\n",
       "    }\n",
       "</style>\n",
       "<table border=\"1\" class=\"dataframe\">\n",
       "  <thead>\n",
       "    <tr style=\"text-align: right;\">\n",
       "      <th></th>\n",
       "      <th>overall</th>\n",
       "      <th>reviewText</th>\n",
       "      <th>summary</th>\n",
       "      <th>reviewerID</th>\n",
       "      <th>asin</th>\n",
       "    </tr>\n",
       "  </thead>\n",
       "  <tbody>\n",
       "    <tr>\n",
       "      <th>0</th>\n",
       "      <td>5</td>\n",
       "      <td>Great product and price!</td>\n",
       "      <td>Five Stars</td>\n",
       "      <td>ALJ66O1Y6SLHA</td>\n",
       "      <td>B000K2PJ4K</td>\n",
       "    </tr>\n",
       "    <tr>\n",
       "      <th>1</th>\n",
       "      <td>5</td>\n",
       "      <td>Great product and price!</td>\n",
       "      <td>Five Stars</td>\n",
       "      <td>ALJ66O1Y6SLHA</td>\n",
       "      <td>B000K2PJ4K</td>\n",
       "    </tr>\n",
       "    <tr>\n",
       "      <th>2</th>\n",
       "      <td>5</td>\n",
       "      <td>Great product and price!</td>\n",
       "      <td>Five Stars</td>\n",
       "      <td>ALJ66O1Y6SLHA</td>\n",
       "      <td>B000K2PJ4K</td>\n",
       "    </tr>\n",
       "    <tr>\n",
       "      <th>3</th>\n",
       "      <td>5</td>\n",
       "      <td>Great product and price!</td>\n",
       "      <td>Five Stars</td>\n",
       "      <td>ALJ66O1Y6SLHA</td>\n",
       "      <td>B000K2PJ4K</td>\n",
       "    </tr>\n",
       "    <tr>\n",
       "      <th>4</th>\n",
       "      <td>5</td>\n",
       "      <td>Great product and price!</td>\n",
       "      <td>Five Stars</td>\n",
       "      <td>ALJ66O1Y6SLHA</td>\n",
       "      <td>B000K2PJ4K</td>\n",
       "    </tr>\n",
       "  </tbody>\n",
       "</table>\n",
       "</div>"
      ],
      "text/plain": [
       "   overall                reviewText     summary     reviewerID        asin\n",
       "0        5  Great product and price!  Five Stars  ALJ66O1Y6SLHA  B000K2PJ4K\n",
       "1        5  Great product and price!  Five Stars  ALJ66O1Y6SLHA  B000K2PJ4K\n",
       "2        5  Great product and price!  Five Stars  ALJ66O1Y6SLHA  B000K2PJ4K\n",
       "3        5  Great product and price!  Five Stars  ALJ66O1Y6SLHA  B000K2PJ4K\n",
       "4        5  Great product and price!  Five Stars  ALJ66O1Y6SLHA  B000K2PJ4K"
      ]
     },
     "execution_count": 14,
     "metadata": {},
     "output_type": "execute_result"
    }
   ],
   "source": [
    "duplicates = Amazon_D1[Amazon_D1.duplicated(keep=False)]\n",
    "duplicates.head()"
   ]
  },
  {
   "cell_type": "markdown",
   "id": "028315e0-23fb-4ead-ad70-7c071f8d55f9",
   "metadata": {},
   "source": [
    "Here, we have reviewed the details of duplicate entries, and now we will proceed to remove the duplicates while retaining the first occurrence of each duplicated row."
   ]
  },
  {
   "cell_type": "markdown",
   "id": "fd2a3199-4efc-47a0-885f-6a5a0697ec7e",
   "metadata": {},
   "source": [
    "The \"asin\" column indicates the product ID. This is a useful filter against duplicates as it lets us know that the user has duplicate entries for the same product."
   ]
  },
  {
   "cell_type": "code",
   "execution_count": 15,
   "id": "38a89806-8586-49e5-946d-f153cf0927ee",
   "metadata": {},
   "outputs": [],
   "source": [
    "Amazon_D1.drop_duplicates(['reviewerID', 'asin'], keep='first', inplace=True)"
   ]
  },
  {
   "cell_type": "code",
   "execution_count": 16,
   "id": "3aa05fb0-d44f-4b9b-bcf6-72938929e171",
   "metadata": {},
   "outputs": [
    {
     "data": {
      "text/plain": [
       "(2953, 5)"
      ]
     },
     "execution_count": 16,
     "metadata": {},
     "output_type": "execute_result"
    }
   ],
   "source": [
    "Amazon_D1.shape"
   ]
  },
  {
   "cell_type": "code",
   "execution_count": 17,
   "id": "5041bf1e-6e6f-4b73-a10c-570b1afbc3c2",
   "metadata": {},
   "outputs": [
    {
     "data": {
      "text/html": [
       "<div>\n",
       "<style scoped>\n",
       "    .dataframe tbody tr th:only-of-type {\n",
       "        vertical-align: middle;\n",
       "    }\n",
       "\n",
       "    .dataframe tbody tr th {\n",
       "        vertical-align: top;\n",
       "    }\n",
       "\n",
       "    .dataframe thead th {\n",
       "        text-align: right;\n",
       "    }\n",
       "</style>\n",
       "<table border=\"1\" class=\"dataframe\">\n",
       "  <thead>\n",
       "    <tr style=\"text-align: right;\">\n",
       "      <th></th>\n",
       "      <th>overall</th>\n",
       "      <th>reviewText</th>\n",
       "      <th>summary</th>\n",
       "      <th>reviewerID</th>\n",
       "      <th>asin</th>\n",
       "    </tr>\n",
       "  </thead>\n",
       "  <tbody>\n",
       "    <tr>\n",
       "      <th>0</th>\n",
       "      <td>5</td>\n",
       "      <td>Great product and price!</td>\n",
       "      <td>Five Stars</td>\n",
       "      <td>ALJ66O1Y6SLHA</td>\n",
       "      <td>B000K2PJ4K</td>\n",
       "    </tr>\n",
       "    <tr>\n",
       "      <th>5</th>\n",
       "      <td>3</td>\n",
       "      <td>Waaay too small. Will use for futur children!</td>\n",
       "      <td>Oops!</td>\n",
       "      <td>A3W11493KS6Z2L</td>\n",
       "      <td>B000K2PJ4K</td>\n",
       "    </tr>\n",
       "    <tr>\n",
       "      <th>10</th>\n",
       "      <td>2</td>\n",
       "      <td>Relieved my Plantar Fascitis for 3 Days. Then ...</td>\n",
       "      <td>These were recommended by my Podiatrist</td>\n",
       "      <td>A3HX4X3TIABWOV</td>\n",
       "      <td>B000KPIHQ4</td>\n",
       "    </tr>\n",
       "    <tr>\n",
       "      <th>11</th>\n",
       "      <td>2</td>\n",
       "      <td>This is my 6th pair and they are the best thin...</td>\n",
       "      <td>Not the same as all my other pairs.</td>\n",
       "      <td>AW8UBYMNJ894V</td>\n",
       "      <td>B000KPIHQ4</td>\n",
       "    </tr>\n",
       "    <tr>\n",
       "      <th>12</th>\n",
       "      <td>5</td>\n",
       "      <td>We have used these inserts for years.  They pr...</td>\n",
       "      <td>Great inserts</td>\n",
       "      <td>A265UZVOZWTTXQ</td>\n",
       "      <td>B000KPIHQ4</td>\n",
       "    </tr>\n",
       "  </tbody>\n",
       "</table>\n",
       "</div>"
      ],
      "text/plain": [
       "    overall                                         reviewText  \\\n",
       "0         5                           Great product and price!   \n",
       "5         3      Waaay too small. Will use for futur children!   \n",
       "10        2  Relieved my Plantar Fascitis for 3 Days. Then ...   \n",
       "11        2  This is my 6th pair and they are the best thin...   \n",
       "12        5  We have used these inserts for years.  They pr...   \n",
       "\n",
       "                                    summary      reviewerID        asin  \n",
       "0                                Five Stars   ALJ66O1Y6SLHA  B000K2PJ4K  \n",
       "5                                     Oops!  A3W11493KS6Z2L  B000K2PJ4K  \n",
       "10  These were recommended by my Podiatrist  A3HX4X3TIABWOV  B000KPIHQ4  \n",
       "11      Not the same as all my other pairs.   AW8UBYMNJ894V  B000KPIHQ4  \n",
       "12                            Great inserts  A265UZVOZWTTXQ  B000KPIHQ4  "
      ]
     },
     "execution_count": 17,
     "metadata": {},
     "output_type": "execute_result"
    }
   ],
   "source": [
    "Amazon_D1.head()"
   ]
  },
  {
   "cell_type": "markdown",
   "id": "6dfbc885-9c17-4d6b-9b6e-06a378994b1a",
   "metadata": {},
   "source": [
    "Now we have been dropped 126 duplicates from the dataset."
   ]
  },
  {
   "cell_type": "markdown",
   "id": "674b837c-7b9f-454d-9704-f28a948e531a",
   "metadata": {},
   "source": [
    "#### Dropping \"reviewText\" & \"asin\" columns"
   ]
  },
  {
   "cell_type": "code",
   "execution_count": 18,
   "id": "47f65c54-7495-49e5-94f1-a62f9638fbc6",
   "metadata": {},
   "outputs": [
    {
     "data": {
      "text/html": [
       "<div>\n",
       "<style scoped>\n",
       "    .dataframe tbody tr th:only-of-type {\n",
       "        vertical-align: middle;\n",
       "    }\n",
       "\n",
       "    .dataframe tbody tr th {\n",
       "        vertical-align: top;\n",
       "    }\n",
       "\n",
       "    .dataframe thead th {\n",
       "        text-align: right;\n",
       "    }\n",
       "</style>\n",
       "<table border=\"1\" class=\"dataframe\">\n",
       "  <thead>\n",
       "    <tr style=\"text-align: right;\">\n",
       "      <th></th>\n",
       "      <th>overall</th>\n",
       "      <th>reviewText</th>\n",
       "      <th>summary</th>\n",
       "    </tr>\n",
       "  </thead>\n",
       "  <tbody>\n",
       "    <tr>\n",
       "      <th>0</th>\n",
       "      <td>5</td>\n",
       "      <td>Great product and price!</td>\n",
       "      <td>Five Stars</td>\n",
       "    </tr>\n",
       "    <tr>\n",
       "      <th>5</th>\n",
       "      <td>3</td>\n",
       "      <td>Waaay too small. Will use for futur children!</td>\n",
       "      <td>Oops!</td>\n",
       "    </tr>\n",
       "    <tr>\n",
       "      <th>10</th>\n",
       "      <td>2</td>\n",
       "      <td>Relieved my Plantar Fascitis for 3 Days. Then ...</td>\n",
       "      <td>These were recommended by my Podiatrist</td>\n",
       "    </tr>\n",
       "    <tr>\n",
       "      <th>11</th>\n",
       "      <td>2</td>\n",
       "      <td>This is my 6th pair and they are the best thin...</td>\n",
       "      <td>Not the same as all my other pairs.</td>\n",
       "    </tr>\n",
       "    <tr>\n",
       "      <th>12</th>\n",
       "      <td>5</td>\n",
       "      <td>We have used these inserts for years.  They pr...</td>\n",
       "      <td>Great inserts</td>\n",
       "    </tr>\n",
       "  </tbody>\n",
       "</table>\n",
       "</div>"
      ],
      "text/plain": [
       "    overall                                         reviewText  \\\n",
       "0         5                           Great product and price!   \n",
       "5         3      Waaay too small. Will use for futur children!   \n",
       "10        2  Relieved my Plantar Fascitis for 3 Days. Then ...   \n",
       "11        2  This is my 6th pair and they are the best thin...   \n",
       "12        5  We have used these inserts for years.  They pr...   \n",
       "\n",
       "                                    summary  \n",
       "0                                Five Stars  \n",
       "5                                     Oops!  \n",
       "10  These were recommended by my Podiatrist  \n",
       "11      Not the same as all my other pairs.  \n",
       "12                            Great inserts  "
      ]
     },
     "execution_count": 18,
     "metadata": {},
     "output_type": "execute_result"
    }
   ],
   "source": [
    "Amazon_D2=Amazon_D1[['overall','reviewText','summary']].copy()\n",
    "Amazon_D2.head()"
   ]
  },
  {
   "cell_type": "code",
   "execution_count": 19,
   "id": "2d0a9719-e6bd-434a-bb9e-5ff03fd28c14",
   "metadata": {},
   "outputs": [
    {
     "data": {
      "text/plain": [
       "(2953, 3)"
      ]
     },
     "execution_count": 19,
     "metadata": {},
     "output_type": "execute_result"
    }
   ],
   "source": [
    "Amazon_D2.shape"
   ]
  },
  {
   "cell_type": "markdown",
   "id": "1d8a8650-f8ad-4931-8a3a-61bcb9649f97",
   "metadata": {},
   "source": [
    "### Distribution of Ratings"
   ]
  },
  {
   "cell_type": "markdown",
   "id": "aca62e01-8f0e-4c0f-956c-7f3bed7e70fe",
   "metadata": {},
   "source": [
    "With the initial parts of data subsetting out of the way, we can begin a more technical data exploration. Firstly, we look at the distribution of the reviews. This helps us gauge how much data we have to train that are both positive, negative, and neutral."
   ]
  },
  {
   "cell_type": "code",
   "execution_count": 20,
   "id": "08809b92-f253-467d-8788-eb60f936a19f",
   "metadata": {},
   "outputs": [
    {
     "data": {
      "image/png": "[encoded data removed]",
      "text/plain": [
       "<Figure size 640x480 with 1 Axes>"
      ]
     },
     "metadata": {
      "image/png": {
       "height": 449,
       "width": 560
      }
     },
     "output_type": "display_data"
    }
   ],
   "source": [
    "Amazon_D2.overall.value_counts().plot(kind='bar', title='Distribution of Overall Sentiment')\n",
    "plt.show()"
   ]
  },
  {
   "cell_type": "code",
   "execution_count": 21,
   "id": "720917bf-ee21-4514-a441-391e1f5103b6",
   "metadata": {},
   "outputs": [
    {
     "data": {
      "text/plain": [
       "overall\n",
       "5    0.682357\n",
       "4    0.147985\n",
       "3    0.104639\n",
       "1    0.037250\n",
       "2    0.027768\n",
       "Name: proportion, dtype: float64"
      ]
     },
     "execution_count": 21,
     "metadata": {},
     "output_type": "execute_result"
    }
   ],
   "source": [
    "Amazon_D2.overall.value_counts(normalize=True)"
   ]
  },
  {
   "cell_type": "markdown",
   "id": "5dca5c7a-1404-495f-a0ad-336a703403b7",
   "metadata": {},
   "source": [
    "**Note :** Unfortunately, We have significant class imbalance in ratings. 68% overall review classifications are 5 & 15% of overall review classifications are 4 so altogether all positive imapct 83%. Neutral overall review is 10%. Only 7% was negatively rated.\n",
    "\n",
    "This will be problematic when developing the model as there are much fewer cases of negative and neutral sentiments compared to positive sentiments. However, for now, let's continue with text processing."
   ]
  },
  {
   "cell_type": "code",
   "execution_count": null,
   "id": "04b81ba7-9407-42df-8481-eaebce01934a",
   "metadata": {},
   "outputs": [],
   "source": []
  },
  {
   "cell_type": "code",
   "execution_count": null,
   "id": "e261e09c-5c8c-4829-b8e0-534decf29ee3",
   "metadata": {},
   "outputs": [],
   "source": []
  },
  {
   "cell_type": "markdown",
   "id": "5370d8ff-d14d-49a8-8b8e-86736d67cf04",
   "metadata": {},
   "source": [
    "# 4.0 Methodology"
   ]
  },
  {
   "cell_type": "code",
   "execution_count": null,
   "id": "79aa7b1c-157a-48c3-81ab-205a8fa65698",
   "metadata": {},
   "outputs": [],
   "source": []
  },
  {
   "cell_type": "markdown",
   "id": "7d93630c-7ff1-4c0c-af3f-510b47054b48",
   "metadata": {},
   "source": [
    "# 5.0 Implementation"
   ]
  },
  {
   "cell_type": "markdown",
   "id": "d34ab423-b7bd-4522-add9-f4929a9d34ab",
   "metadata": {},
   "source": [
    "# 6.0 Results & Discussion"
   ]
  },
  {
   "cell_type": "markdown",
   "id": "8056e3af-29c2-4f97-a615-9758e3618ff1",
   "metadata": {},
   "source": [
    "# 7.0 Conclusion & Future Work"
   ]
  },
  {
   "cell_type": "code",
   "execution_count": null,
   "id": "84010d10-97e9-44c1-af09-1f528f4075c8",
   "metadata": {},
   "outputs": [],
   "source": []
  }
 ],
 "metadata": {
  "kernelspec": {
   "display_name": "Python 3 (ipykernel)",
   "language": "python",
   "name": "python3"
  },
  "language_info": {
   "codemirror_mode": {
    "name": "ipython",
    "version": 3
   },
   "file_extension": ".py",
   "mimetype": "text/x-python",
   "name": "python",
   "nbconvert_exporter": "python",
   "pygments_lexer": "ipython3",
   "version": "3.11.7"
  }
 },
 "nbformat": 4,
 "nbformat_minor": 5
}
